{
 "cells": [
  {
   "cell_type": "code",
   "execution_count": 1,
   "id": "26e3a0cd",
   "metadata": {},
   "outputs": [],
   "source": [
    "from numpy import *\n",
    "import random\n",
    "from math import *"
   ]
  },
  {
   "cell_type": "code",
   "execution_count": 2,
   "id": "4212c297",
   "metadata": {},
   "outputs": [],
   "source": [
    "elite=[]        #elite\n",
    "pop=[]\n",
    "for h in range(20):\n",
    "    positions=[]\n",
    "    for i in range(48):\n",
    "        x=random.randint(0,1)\n",
    "        positions.append(x)\n",
    "    pop.append(positions)"
   ]
  },
  {
   "cell_type": "code",
   "execution_count": 3,
   "id": "3e8cc6be",
   "metadata": {},
   "outputs": [],
   "source": [
    "def chess(positions):\n",
    "    p1=[]\n",
    "    for i in range(8):\n",
    "        p2=[]\n",
    "        for j in range((i-1)*6,i*6):\n",
    "            p2.append(positions[j])\n",
    "        p1.append(p2)\n",
    "    p3=[] #positions as ordered pairs\n",
    "    for i in range(8):\n",
    "        p4=[]\n",
    "        arr=p1[i]\n",
    "        y1=0\n",
    "        for j in range(3):\n",
    "            y1a=arr[j]*2**(2-j)\n",
    "            y1=y1+y1a\n",
    "        p4.append(y1)\n",
    "        y2=0\n",
    "        for j in range(3,6):\n",
    "            y2a=arr[j]*2**(5-j)\n",
    "            y2=y2+y2a\n",
    "        p4.append(y2)\n",
    "        p3.append(p4)\n",
    "    h=0\n",
    "    #Penalty calculation\n",
    "    for i in range(8):\n",
    "        for j in range(i+1,8):\n",
    "            for k in range(2):\n",
    "                if p3[i][k]==p3[j][k]:\n",
    "                    h=h+1\n",
    "            if p3[i][1]-p3[j][1]==p3[i][0]-p3[j][0]:\n",
    "                h=h+1\n",
    "            if p3[i][1]-p3[j][1]==p3[j][0]-p3[i][0]:\n",
    "                h=h+1\n",
    "    #Penalty calculation\n",
    "    if h==0:\n",
    "        return 10000\n",
    "    else:\n",
    "        return 1/h"
   ]
  },
  {
   "cell_type": "code",
   "execution_count": 4,
   "id": "49e60afc",
   "metadata": {},
   "outputs": [
    {
     "name": "stdout",
     "output_type": "stream",
     "text": [
      "[0, 0, 0, 0, 1, 1, 1, 0, 1, 0, 0, 0, 1, 1, 1, 1, 0, 0, 1, 1, 0, 0, 1, 0, 0, 1, 0, 1, 1, 1, 0, 1, 1, 0, 0, 1, 1, 0, 0, 1, 1, 0, 0, 0, 1, 1, 0, 1] [0, 1, 1, 1, 1, 1, 1, 0, 0, 1, 0, 1, 0, 0, 1, 0, 0, 1, 0, 0, 0, 0, 0, 0, 0, 1, 0, 1, 0, 1, 0, 1, 1, 1, 1, 1, 1, 0, 0, 1, 0, 1, 1, 1, 0, 0, 1, 1]\n"
     ]
    }
   ],
   "source": [
    "for x in range(100000):\n",
    "    weightage=[]\n",
    "    fitnessmax=0\n",
    "    finalpos=[]\n",
    "    for i in range(len(pop)):\n",
    "        d=chess(pop[i])\n",
    "        if d==10000:\n",
    "            print(pop[i],positions)\n",
    "            finalpos=pop[i]\n",
    "            break\n",
    "        if d>=fitnessmax:    #elite\n",
    "            hu=pop[i]       #elite\n",
    "            fitnessmax=d    #elite\n",
    "        weightage.append(d)\n",
    "    if finalpos==pop[i]:\n",
    "        break\n",
    "    mating_pool=random.choices(pop,k=20,weights=weightage)\n",
    "    tw=0\n",
    "    for i in weightage:\n",
    "        tw=tw+i\n",
    "    #crossover\n",
    "    pop=[]\n",
    "    pop.append(hu)\n",
    "    while len(pop)<21:\n",
    "        a1=random.randint(0,19)\n",
    "        a2=random.randint(0,19)\n",
    "        str1=mating_pool[a1]\n",
    "        str2=mating_pool[a2]\n",
    "        pos=random.randint(1,len(str1))\n",
    "        child1=str1[pos:]+str2[:pos]\n",
    "        child2=str2[pos:]+str1[:pos]\n",
    "        pop.append(child1)\n",
    "        pop.append(child2)\n",
    "    for i in range(1,20):\n",
    "        for j in range(18):\n",
    "            n=random.random()\n",
    "            if n<0.05:\n",
    "                if pop[i][j]==0:\n",
    "                    pop[i][j]=1\n",
    "                else:\n",
    "                    pop[i][j]=0\n",
    "    #print(tw,max(weightage),x+1,pop[0])\n",
    "    #print(weightage)\n",
    "#print(chess(pop[0]),pop[0])"
   ]
  },
  {
   "cell_type": "code",
   "execution_count": 5,
   "id": "0ac085e5",
   "metadata": {},
   "outputs": [],
   "source": [
    "def chessmax(positions):\n",
    "    p1=[]\n",
    "    for i in range(8):\n",
    "        p2=[]\n",
    "        for j in range((i-1)*6,i*6):\n",
    "            p2.append(positions[j])\n",
    "        p1.append(p2)\n",
    "    p3=[] #positions as ordered pairs\n",
    "    for i in range(8):\n",
    "        p4=[]\n",
    "        arr=p1[i]\n",
    "        y1=0\n",
    "        for j in range(3):\n",
    "            y1a=arr[j]*2**(2-j)\n",
    "            y1=y1+y1a\n",
    "        p4.append(y1)\n",
    "        y2=0\n",
    "        for j in range(3,6):\n",
    "            y2a=arr[j]*2**(5-j)\n",
    "            y2=y2+y2a\n",
    "        p4.append(y2)\n",
    "        p3.append(p4)\n",
    "    h=0\n",
    "    print(p3)\n",
    "    for i in range(8):\n",
    "        for j in range(i+1,8):\n",
    "            for k in range(2):\n",
    "                if p3[i][k]==p3[j][k]:\n",
    "                    h=h+1\n",
    "            if p3[i][1]-p3[j][1]==p3[i][0]-p3[j][0]:\n",
    "                h=h+1\n",
    "            if p3[i][1]-p3[j][1]==p3[j][0]-p3[i][0]:\n",
    "                h=h+1\n",
    "    print(h)\n",
    "    c1=[]\n",
    "    for i in range(8):\n",
    "        c2=[]\n",
    "        for j in range(8):\n",
    "            c2.append(0)\n",
    "        c1.append(c2)\n",
    "    for i in p3:\n",
    "        c1[i[0]][i[1]]=1\n",
    "    for i in range(8):\n",
    "        for j in range(8):\n",
    "            print(c1[i][j],end=\" \")\n",
    "        print()\n",
    "    if h==0:\n",
    "        return 10000\n",
    "    else:\n",
    "        return 1/h"
   ]
  },
  {
   "cell_type": "code",
   "execution_count": 6,
   "id": "0b2acd6c",
   "metadata": {},
   "outputs": [
    {
     "name": "stdout",
     "output_type": "stream",
     "text": [
      "[[1, 5], [0, 3], [5, 0], [7, 4], [6, 2], [2, 7], [3, 1], [4, 6]]\n",
      "0\n",
      "0 0 0 1 0 0 0 0 \n",
      "0 0 0 0 0 1 0 0 \n",
      "0 0 0 0 0 0 0 1 \n",
      "0 1 0 0 0 0 0 0 \n",
      "0 0 0 0 0 0 1 0 \n",
      "1 0 0 0 0 0 0 0 \n",
      "0 0 1 0 0 0 0 0 \n",
      "0 0 0 0 1 0 0 0 \n"
     ]
    },
    {
     "data": {
      "text/plain": [
       "10000"
      ]
     },
     "execution_count": 6,
     "metadata": {},
     "output_type": "execute_result"
    }
   ],
   "source": [
    "chessmax(finalpos)"
   ]
  },
  {
   "cell_type": "code",
   "execution_count": null,
   "id": "703dcde9",
   "metadata": {},
   "outputs": [],
   "source": []
  }
 ],
 "metadata": {
  "kernelspec": {
   "display_name": "Python 3 (ipykernel)",
   "language": "python",
   "name": "python3"
  },
  "language_info": {
   "codemirror_mode": {
    "name": "ipython",
    "version": 3
   },
   "file_extension": ".py",
   "mimetype": "text/x-python",
   "name": "python",
   "nbconvert_exporter": "python",
   "pygments_lexer": "ipython3",
   "version": "3.9.7"
  }
 },
 "nbformat": 4,
 "nbformat_minor": 5
}
